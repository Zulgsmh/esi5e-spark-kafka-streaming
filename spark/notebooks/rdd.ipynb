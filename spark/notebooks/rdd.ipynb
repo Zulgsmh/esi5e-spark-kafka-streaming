{
 "cells": [
  {
   "cell_type": "markdown",
   "metadata": {},
   "source": [
    "### Verify the spark contex\n",
    "Variable initiated by sc"
   ]
  },
  {
   "cell_type": "code",
   "execution_count": null,
   "metadata": {},
   "outputs": [],
   "source": [
    "sc"
   ]
  },
  {
   "cell_type": "markdown",
   "metadata": {},
   "source": [
    "### Create a python list of integers [1..10]"
   ]
  },
  {
   "cell_type": "code",
   "execution_count": null,
   "metadata": {},
   "outputs": [],
   "source": [
    "my_list = [i for i in range(1,11)]\n",
    "print(my_list)"
   ]
  },
  {
   "cell_type": "markdown",
   "metadata": {},
   "source": [
    "### Create an RDD form a python list"
   ]
  },
  {
   "cell_type": "code",
   "execution_count": null,
   "metadata": {},
   "outputs": [],
   "source": [
    "rdd = sc.parallelize(my_list)"
   ]
  },
  {
   "cell_type": "markdown",
   "metadata": {},
   "source": [
    "### Display the rdd content: collect"
   ]
  },
  {
   "cell_type": "code",
   "execution_count": null,
   "metadata": {},
   "outputs": [],
   "source": [
    "result = rdd.collect()\n",
    "print(result)"
   ]
  },
  {
   "cell_type": "markdown",
   "metadata": {},
   "source": [
    "### Display the rdd content: First"
   ]
  },
  {
   "cell_type": "code",
   "execution_count": null,
   "metadata": {},
   "outputs": [],
   "source": [
    "rdd.first()"
   ]
  },
  {
   "cell_type": "markdown",
   "metadata": {},
   "source": [
    "### Display the rdd content: take"
   ]
  },
  {
   "cell_type": "code",
   "execution_count": null,
   "metadata": {},
   "outputs": [],
   "source": [
    "result = rdd.take(3)\n",
    "print(result)"
   ]
  },
  {
   "cell_type": "code",
   "execution_count": null,
   "metadata": {},
   "outputs": [],
   "source": [
    "result = rdd.take(4)\n",
    "print(result)"
   ]
  },
  {
   "cell_type": "markdown",
   "metadata": {},
   "source": [
    "### Verify the data structure"
   ]
  },
  {
   "cell_type": "code",
   "execution_count": null,
   "metadata": {},
   "outputs": [],
   "source": [
    "print(f\"The rdd class type: {type(rdd)}\")\n",
    "print(f\"The result class type: {type(result)}\")"
   ]
  },
  {
   "cell_type": "markdown",
   "metadata": {},
   "source": [
    "### Increment all elements of the rdd\n",
    "[1, 2, 3] -> [2,3,4]\n",
    "\n",
    "Apply a transformation using the map function"
   ]
  },
  {
   "cell_type": "code",
   "execution_count": null,
   "metadata": {},
   "outputs": [],
   "source": [
    "rdd_inc = rdd.map(lambda x: x + 1)\n",
    "rdd_inc.collect()"
   ]
  },
  {
   "cell_type": "markdown",
   "metadata": {},
   "source": [
    "#### Using a function inside the map"
   ]
  },
  {
   "cell_type": "code",
   "execution_count": null,
   "metadata": {},
   "outputs": [],
   "source": [
    "\"\"\"\n",
    "Define the inc function\n",
    "param1: integer\n",
    "return: integer\n",
    "\"\"\"\n",
    "def my_function(ele: int) -> int:\n",
    "    return ele + 1\n",
    "\n",
    "# Apply the transformation\n",
    "rdd_inc_by_function = rdd.map(my_function)\n",
    "\n",
    "# Display the content of an RDD\n",
    "rdd_inc_by_function.collect()"
   ]
  },
  {
   "cell_type": "markdown",
   "metadata": {},
   "source": [
    "### Compute the square of each element\n",
    "[1,2,3] -> [1,4,9]\n",
    "\n",
    "Using lambda function"
   ]
  },
  {
   "cell_type": "code",
   "execution_count": null,
   "metadata": {},
   "outputs": [],
   "source": [
    "sq_rdd = rdd.map(lambda x: x * x)\n",
    "sq_rdd.collect()"
   ]
  },
  {
   "cell_type": "markdown",
   "metadata": {},
   "source": [
    "#### Using a defined function"
   ]
  },
  {
   "cell_type": "code",
   "execution_count": null,
   "metadata": {},
   "outputs": [],
   "source": [
    "def square(x: int) -> int:\n",
    "    return x * x\n",
    "sq_rdd = rdd.map(square)\n",
    "sq_rdd.collect()"
   ]
  },
  {
   "cell_type": "markdown",
   "metadata": {},
   "source": [
    "### In a single line\n",
    "Create -> Transform -> Display"
   ]
  },
  {
   "cell_type": "code",
   "execution_count": null,
   "metadata": {},
   "outputs": [],
   "source": [
    "sc.parallelize(my_list).map(lambda x: x * x).collect()"
   ]
  },
  {
   "cell_type": "markdown",
   "metadata": {},
   "source": [
    "### Count the number of elements of an RDD"
   ]
  },
  {
   "cell_type": "code",
   "execution_count": null,
   "metadata": {},
   "outputs": [],
   "source": [
    "rdd_inc.count()"
   ]
  },
  {
   "cell_type": "markdown",
   "metadata": {},
   "source": [
    "### Filter odd numbers"
   ]
  },
  {
   "cell_type": "code",
   "execution_count": null,
   "metadata": {},
   "outputs": [],
   "source": [
    "rdd.filter(lambda x: x % 2 == 0).collect()"
   ]
  },
  {
   "cell_type": "markdown",
   "metadata": {},
   "source": [
    "#### Using a defined function"
   ]
  },
  {
   "cell_type": "code",
   "execution_count": null,
   "metadata": {},
   "outputs": [],
   "source": [
    "def odd(ele: int) -> bool:\n",
    "    if ele % 2 == 0:\n",
    "        return True\n",
    "    else:\n",
    "        return False\n",
    "\n",
    "    \n",
    "#def odd(ele: int) -> bool:\n",
    "#    return ele % 2 == 0\n",
    "\n",
    "rdd.filter(odd).collect()"
   ]
  },
  {
   "cell_type": "markdown",
   "metadata": {},
   "source": [
    "### Count the number of odd ints"
   ]
  },
  {
   "cell_type": "code",
   "execution_count": null,
   "metadata": {},
   "outputs": [],
   "source": [
    "rdd.filter(lambda ele: ele % 2 == 1).count()"
   ]
  },
  {
   "cell_type": "markdown",
   "metadata": {},
   "source": [
    "### Sort RDD"
   ]
  },
  {
   "cell_type": "code",
   "execution_count": null,
   "metadata": {},
   "outputs": [],
   "source": [
    "import random\n",
    "random_list = [random.randint(1,10) for r in range(20) ]\n",
    "rdd = sc.parallelize(random_list)\n",
    "#rdd.collect()\n",
    "rdd.sortBy(lambda x:x).collect()"
   ]
  },
  {
   "cell_type": "code",
   "execution_count": null,
   "metadata": {},
   "outputs": [],
   "source": [
    "dict_lst = [{'name': 'Ali', 'age':12},{'name': 'Bob', 'age':20},{'name': 'Alice', 'age': 3}]\n",
    "rdd_tup = sc.parallelize(dict_lst)\n",
    "rdd_tup.sortBy(lambda x: x['age']).collect()"
   ]
  },
  {
   "cell_type": "code",
   "execution_count": null,
   "metadata": {},
   "outputs": [],
   "source": [
    "def get_age(x: dict) -> int:\n",
    "    return x['age']\n",
    "rdd_tup.sortBy(get_age).collect()"
   ]
  },
  {
   "cell_type": "markdown",
   "metadata": {},
   "source": [
    "### Sort RDD descending"
   ]
  },
  {
   "cell_type": "code",
   "execution_count": null,
   "metadata": {},
   "outputs": [],
   "source": [
    "rdd.sortBy(lambda x:x, False).collect()"
   ]
  },
  {
   "cell_type": "markdown",
   "metadata": {},
   "source": [
    "### Deduplicate"
   ]
  },
  {
   "cell_type": "code",
   "execution_count": null,
   "metadata": {},
   "outputs": [],
   "source": [
    "rdd.distinct().collect()"
   ]
  },
  {
   "cell_type": "markdown",
   "metadata": {},
   "source": [
    "### Deduplicate and sort"
   ]
  },
  {
   "cell_type": "code",
   "execution_count": null,
   "metadata": {},
   "outputs": [],
   "source": [
    "rdd.distinct().sortBy(lambda x:x).collect()"
   ]
  },
  {
   "cell_type": "markdown",
   "metadata": {},
   "source": [
    "### Deduplicate, sort the RDD and display the last two elements"
   ]
  },
  {
   "cell_type": "code",
   "execution_count": null,
   "metadata": {},
   "outputs": [],
   "source": [
    "rdd.distinct().sortBy(lambda x:x, False).take(2)"
   ]
  },
  {
   "cell_type": "markdown",
   "metadata": {},
   "source": [
    "### Exercise 1\n",
    "1. Create a python list of integers\n",
    "2. Create an RDD from the python list\n",
    "3. Apply a first transformation: f(x) = x - 1\n",
    "4. Apply a second transformation: g(x) = f(x) * 2\n",
    "5. Display the final result"
   ]
  },
  {
   "cell_type": "code",
   "execution_count": null,
   "metadata": {},
   "outputs": [],
   "source": []
  },
  {
   "cell_type": "code",
   "execution_count": null,
   "metadata": {},
   "outputs": [],
   "source": []
  },
  {
   "cell_type": "markdown",
   "metadata": {},
   "source": [
    "### How the reduce works: \n",
    "[1, 2, 3, 4] -> [3, 3, 4] -> [6, 4] -> 10"
   ]
  },
  {
   "cell_type": "code",
   "execution_count": null,
   "metadata": {},
   "outputs": [],
   "source": [
    "result = sc.parallelize(my_list).reduce(lambda x , y: x + y)\n",
    "print(result)\n",
    "print(type(result))"
   ]
  },
  {
   "cell_type": "markdown",
   "metadata": {},
   "source": [
    "#### Using a defined function"
   ]
  },
  {
   "cell_type": "code",
   "execution_count": null,
   "metadata": {},
   "outputs": [],
   "source": [
    "def reducer(x: int, y: int) -> int:\n",
    "    return x + y\n",
    "sc.parallelize(my_list).reduce(reducer)"
   ]
  },
  {
   "cell_type": "code",
   "execution_count": null,
   "metadata": {},
   "outputs": [],
   "source": [
    "print(random_list)\n",
    "sc.parallelize(random_list) \\\n",
    "    .map(lambda x: x-1) \\\n",
    "    .map(lambda x: x*2) \\\n",
    "    .reduce(lambda x,y: x+y)"
   ]
  },
  {
   "cell_type": "markdown",
   "metadata": {},
   "source": [
    "### Exercise 2\n",
    "1. Create a python list composed of 20 random integers between (1,10)\n",
    "2. Create an rdd from the python list\n",
    "3. Deduplicate the numbers\n",
    "4. Create two rdds even and odd from the initial rdd\n",
    "5. Sum all the elements of each RDD"
   ]
  },
  {
   "cell_type": "code",
   "execution_count": null,
   "metadata": {},
   "outputs": [],
   "source": [
    "import random\n",
    "\n",
    "rdd = sc.parallelize([random.randint(1,10) for r in range(20)])\n",
    "somme_impair = rdd.filter(lambda x: x% 2 ==1).distinct().reduce(lambda x, y: x+y)\n",
    "somme_pair = rdd.filter(lambda x: x%2 == 0).distinct().reduce(lambda x, y: x+y)\n",
    "print(f\"la somme des entiers impairs {somme_impair}\")\n",
    "print(f\"la somme des entier pairs {somme_pair}\")\n"
   ]
  },
  {
   "cell_type": "markdown",
   "metadata": {},
   "source": [
    "### Built in functions"
   ]
  },
  {
   "cell_type": "code",
   "execution_count": null,
   "metadata": {},
   "outputs": [],
   "source": [
    "print(rdd.collect())\n",
    "print(f\"The max: {rdd.max()}\")\n",
    "print(f\"The min: {rdd.min()}\")\n",
    "print(f\"The mean: {rdd.mean()}\")\n",
    "print(f\"The standard deviation: {rdd.stdev()}\")\n",
    "print(f\"The number of elements: {rdd.count()}\")\n",
    "\n",
    "print(rdd.stats())\n"
   ]
  },
  {
   "cell_type": "code",
   "execution_count": null,
   "metadata": {},
   "outputs": [],
   "source": [
    "import random\n",
    "\n",
    "random_list = [random.randint(1,100) for i in range(20)]\n",
    "random_list"
   ]
  },
  {
   "cell_type": "code",
   "execution_count": null,
   "metadata": {},
   "outputs": [],
   "source": [
    "rdd = sc.parallelize(random_list)\n",
    "avg = rdd.reduce(lambda x,y : x+y) / rdd.count()\n",
    "print(avg)"
   ]
  },
  {
   "cell_type": "code",
   "execution_count": null,
   "metadata": {},
   "outputs": [],
   "source": [
    "dict_lst = [{'name': 'Ali', 'age':12},{'name': 'Bob', 'age':20},{'name': 'Alice', 'age': 3}]\n",
    "rdd = sc.parallelize(dict_lst)\n",
    "max_value = rdd.reduce(lambda x,y: x if x['age']>y['age'] else y)\n",
    "min_value = rdd.reduce(lambda x,y: x if x['age']<y['age'] else y)\n",
    "print(f'max value {max_value}')\n",
    "print(f'min value {min_value}')"
   ]
  },
  {
   "cell_type": "code",
   "execution_count": null,
   "metadata": {},
   "outputs": [],
   "source": [
    "dict_lst = [{'name': 'Ali', 'age':12},{'name': 'Bob', 'age':20},{'name': 'Alice', 'age': 3}]\n",
    "rdd = sc.parallelize(dict_lst)\n",
    "\n",
    "def max_age(x: dict,y: dict) -> dict:\n",
    "    if x['age'] > y['age']:\n",
    "        return x\n",
    "    return y\n",
    "rdd.reduce(max_age)"
   ]
  },
  {
   "cell_type": "markdown",
   "metadata": {},
   "source": [
    "## Complexe structure"
   ]
  },
  {
   "cell_type": "markdown",
   "metadata": {},
   "source": [
    "### FlatMap"
   ]
  },
  {
   "cell_type": "code",
   "execution_count": null,
   "metadata": {},
   "outputs": [],
   "source": [
    "ma_liste = [\n",
    "    [1,2,3],\n",
    "    [4,5,6],\n",
    "    [7,8,9]\n",
    "]\n",
    "sc.parallelize(ma_liste).flatMap(lambda x:[i+1 for i in x]).collect()"
   ]
  },
  {
   "cell_type": "code",
   "execution_count": null,
   "metadata": {},
   "outputs": [],
   "source": [
    "from typing import List, Tuple\n",
    "users: List[Tuple[str, int]] = [\n",
    "    ('Eli', 32),\n",
    "    ('Dana', 44),\n",
    "    ('Joe', 15),\n",
    "    ('Anis', 20)\n",
    "]"
   ]
  },
  {
   "cell_type": "markdown",
   "metadata": {},
   "source": [
    "#### Filter adult users (age > 18) then sort the users by their age"
   ]
  },
  {
   "cell_type": "code",
   "execution_count": null,
   "metadata": {},
   "outputs": [],
   "source": [
    "sc.parallelize(users)\\\n",
    "    .filter(lambda x: x[1] > 18)\\\n",
    "    .sortBy(lambda x: x[1])\\\n",
    "    .collect()"
   ]
  },
  {
   "cell_type": "markdown",
   "metadata": {},
   "source": [
    "### Exercise 3\n",
    "\n",
    "The dataset below represents a list of cars defined by ('Constructor', 'Model', 'Color', 'ModelYear)\n",
    "1. Create a RDD from the following list\n",
    "2. Filter the data that contains empty values\n",
    "3. Sort the data by the ModelYear"
   ]
  },
  {
   "cell_type": "code",
   "execution_count": null,
   "metadata": {},
   "outputs": [],
   "source": [
    "cars: List[Tuple[str, str, str, int]] = [\n",
    "    ('VolksWagen', 'Golf', 'Yellow', 2018),\n",
    "    ('Toyota', 'Yaris', 'White', 2020),\n",
    "    ('VolksWagen', 'Golf', None, 2010),\n",
    "    ('Peugeot', '208', 'Green', 2005),\n",
    "    ('Honda', None, 'Blue', 2003)\n",
    "]"
   ]
  },
  {
   "cell_type": "code",
   "execution_count": null,
   "metadata": {},
   "outputs": [],
   "source": []
  },
  {
   "cell_type": "code",
   "execution_count": null,
   "metadata": {},
   "outputs": [],
   "source": [
    "first_rdd = sc.parallelize(cars)\n",
    "first_rdd.collect()"
   ]
  },
  {
   "cell_type": "code",
   "execution_count": null,
   "metadata": {},
   "outputs": [],
   "source": [
    "def filter_none(x: Tuple) -> bool:\n",
    "    for i in x:\n",
    "        if not i:\n",
    "            return False\n",
    "    return True\n",
    "\n",
    "sc.parallelize(cars) \\\n",
    "    .filter(filter_none) \\\n",
    "    .sortBy(lambda x: x[-1]) \\\n",
    "    .collect()"
   ]
  },
  {
   "cell_type": "markdown",
   "metadata": {},
   "source": [
    "### Exercise 4\n",
    "Consider the following dataset\n",
    "1. Create a RDD from the python list\n",
    "2. Filter the None values\n",
    "3. Sort The data by user ages\n",
    "4. Display the number of persons per state"
   ]
  },
  {
   "cell_type": "code",
   "execution_count": null,
   "metadata": {},
   "outputs": [],
   "source": [
    "data = [\n",
    "    {'Name': 'Elis', 'Age': 31, 'State': 'New York'},\n",
    "    {'Name': 'Tatiana', 'Age': None, 'State': 'Louisiana'},\n",
    "    {'Name': None, 'Age': 23, 'State': 'Alaska'},\n",
    "    {'Age': 20, 'State': 'Hawai'},\n",
    "    {'Name': 'Kedy', 'Age': 40, 'State': 'Colorado'},\n",
    "    {'Name': 'Nadana', 'Age': 23, 'State': 'New York'}\n",
    "]"
   ]
  },
  {
   "cell_type": "code",
   "execution_count": null,
   "metadata": {},
   "outputs": [],
   "source": [
    "def filter_none(x: dict) -> bool:\n",
    "    for _, value in x.items():\n",
    "        if not value:\n",
    "            return False\n",
    "    return True\n",
    "\n",
    "sc.parallelize(data) \\\n",
    "    .filter(filter_none) \\\n",
    "    .sortBy(lambda x: x['Age']).collect()"
   ]
  },
  {
   "cell_type": "code",
   "execution_count": null,
   "metadata": {},
   "outputs": [],
   "source": [
    "notes = sc.parallelize([('math', 3),('science', 4),('philosophy', 10)])\n",
    "notes.sortBy(lambda x:x[1],False).collect()"
   ]
  },
  {
   "cell_type": "code",
   "execution_count": null,
   "metadata": {},
   "outputs": [],
   "source": [
    "SUM = notes.map(lambda a: a[1]).reduce(lambda a,b: a+b)\n",
    "COUNT = notes.count()\n",
    "SUM / COUNT"
   ]
  },
  {
   "cell_type": "markdown",
   "metadata": {},
   "source": [
    "## String types"
   ]
  },
  {
   "cell_type": "markdown",
   "metadata": {},
   "source": [
    "### Read a text file"
   ]
  },
  {
   "cell_type": "code",
   "execution_count": null,
   "metadata": {},
   "outputs": [],
   "source": [
    "text_file = sc.textFile('/var/log/kern.log')\n",
    "text_file.first()"
   ]
  },
  {
   "cell_type": "markdown",
   "metadata": {},
   "source": [
    "### Some python tools"
   ]
  },
  {
   "cell_type": "code",
   "execution_count": null,
   "metadata": {},
   "outputs": [],
   "source": [
    "'Correctable Errors collector initialized'.lower()"
   ]
  },
  {
   "cell_type": "code",
   "execution_count": null,
   "metadata": {},
   "outputs": [],
   "source": [
    "'Ceci est une phrase'.split()"
   ]
  },
  {
   "cell_type": "code",
   "execution_count": null,
   "metadata": {},
   "outputs": [],
   "source": [
    "'Ceci,'.strip(',')"
   ]
  },
  {
   "cell_type": "markdown",
   "metadata": {},
   "source": [
    "### Apply a transformation to the text (lower)"
   ]
  },
  {
   "cell_type": "code",
   "execution_count": null,
   "metadata": {},
   "outputs": [],
   "source": [
    "text_file.map(lambda s: s.lower()).first()"
   ]
  },
  {
   "cell_type": "markdown",
   "metadata": {},
   "source": [
    "### Filter text"
   ]
  },
  {
   "cell_type": "code",
   "execution_count": null,
   "metadata": {},
   "outputs": [],
   "source": [
    "text_file.filter(lambda s: 'error' in s).take(5)"
   ]
  },
  {
   "cell_type": "markdown",
   "metadata": {},
   "source": [
    "### Exercice 5\n",
    "Count the number of lines containing the key word \"ebook\" in the file \"book.txt\""
   ]
  },
  {
   "cell_type": "code",
   "execution_count": null,
   "metadata": {},
   "outputs": [],
   "source": []
  },
  {
   "cell_type": "markdown",
   "metadata": {},
   "source": [
    "### Exercie 6 : WordCount\n",
    "1. Download the [book]()\n",
    "2. Compute the occurence of each word, consider removing the punctuation and to lowercase all the words"
   ]
  },
  {
   "cell_type": "code",
   "execution_count": null,
   "metadata": {},
   "outputs": [],
   "source": []
  }
 ],
 "metadata": {
  "kernelspec": {
   "display_name": "Python 3",
   "language": "python",
   "name": "python3"
  },
  "language_info": {
   "codemirror_mode": {
    "name": "ipython",
    "version": 3
   },
   "file_extension": ".py",
   "mimetype": "text/x-python",
   "name": "python",
   "nbconvert_exporter": "python",
   "pygments_lexer": "ipython3",
   "version": "3.6.9"
  }
 },
 "nbformat": 4,
 "nbformat_minor": 4
}
